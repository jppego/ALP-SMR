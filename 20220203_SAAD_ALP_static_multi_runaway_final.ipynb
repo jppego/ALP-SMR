{
  "cells": [
    {
      "cell_type": "markdown",
      "metadata": {
        "id": "MCVzp6vhQBhZ"
      },
      "source": [
        "#MASTER IN DATA SCIENCE AND ENGINEERING <br>\n",
        "Analytical decision support systems <br>  <br> Group #01 <br>\n",
        "##Aircraft landing problem\n",
        "João Pedro Pêgo, Pedro Gouveia, Ricardo Vilaça <br>\n",
        "<up199502401@up.up.pt>,   <202100813@up.up.pt>  , <201308080@up.up.pt> <br><br> Faculdade de Engenharia, Universidade do Porto <br>FEUP Feb. 2022 </small>"
      ]
    },
    {
      "cell_type": "markdown",
      "metadata": {
        "id": "_YUSiwlZehcJ"
      },
      "source": [
        "# OR - Library\n",
        "http://people.brunel.ac.uk/~mastjjb/jeb/orlib/airlandinfo.html\n",
        "\n",
        "\n",
        "#Aircraft landing\n",
        "\n",
        "There are currently 13 data files.\n",
        "\n",
        "These data files are the test problems used in the papers \"*<a href=\"https://www.w3schools.com/html/html_links.asp\">Scheduling aircraft landings - the static case</a>*\" by J.E. Beasley, M. Krishnamoorthy, Y.M. Sharaiha and D. Abramson, Transportation  Science, vol.34, 2000, pp180-197; and\n",
        "\n",
        "\"*<a href=\"https://www.tandfonline.com/doi/full/10.1057/palgrave.jors.2601650\">Displacement problem and dynamically scheduling aircraft landings</a>*\" by J.E. Beasley, M. Krishnamoorthy, Y.M. Sharaiha and\n",
        "D. Abramson, Journal of the Operational Research Society, vol.55, 2004, pp54-64.\n",
        "\n",
        "The test problems are the files:\n",
        "* airland1, airland2, ..., airland13\n",
        "\n",
        "The first eight files are those used in the Transportation Science paper referred to above.\n",
        "\n",
        "The format of these data files is:\n",
        "* number of planes (p), freeze time\n",
        "\n",
        "for each plane i (i=1,...,p):\n",
        "\n",
        "* appearance time, \n",
        "* earliest landing time,\n",
        "* target landing time,\n",
        "* latest landing time, \n",
        "* penalty cost per unit of time for landing before target,\n",
        "* penalty cost per unit of time for landing after target\n",
        "   \n",
        "for each plane j (j=1,...p): \n",
        "* separation time required after i lands before j can land\n",
        "\n",
        "The value of the optimal solution for each of these data\n",
        "files for a varying number of runways is given in the\n",
        "above papers.\n",
        "\n",
        "The largest file is airland13 of size 800Kb (approximately). \n",
        "The entire set of files is of size 1.3Mb (approximately)."
      ]
    },
    {
      "cell_type": "markdown",
      "metadata": {},
      "source": [
        "# Installs cplex"
      ]
    },
    {
      "cell_type": "code",
      "execution_count": null,
      "metadata": {
        "colab": {
          "base_uri": "https://localhost:8080/"
        },
        "id": "MTP7dg3sehcP",
        "outputId": "af446ffd-a844-4a05-8986-d5c3c70716f3"
      },
      "outputs": [],
      "source": [
        "!pip install cplex\n",
        "!pip install docplex"
      ]
    },
    {
      "cell_type": "markdown",
      "metadata": {
        "id": "pRdXdk-3PuRV"
      },
      "source": [
        "# Imports libraries"
      ]
    },
    {
      "cell_type": "code",
      "execution_count": null,
      "metadata": {},
      "outputs": [],
      "source": [
        "# imports libraries\n",
        "import os\n",
        "import urllib.request\n",
        "import numpy as np\n",
        "import pandas as pd \n",
        "import math\n",
        "\n",
        "# import sys\n",
        "try:\n",
        "    import docplex.mp\n",
        "except:\n",
        "    raise Exception('Please install docplex. See https://pypi.org/project/docplex/')      \n"
      ]
    },
    {
      "cell_type": "markdown",
      "metadata": {
        "id": "Aa-7lg54yBwI"
      },
      "source": [
        "## Retrieves datasets"
      ]
    },
    {
      "cell_type": "code",
      "execution_count": null,
      "metadata": {
        "id": "4lKpKkdsurP8"
      },
      "outputs": [],
      "source": [
        "# There are 13 datasets with name airlandX.txt, where X is a number in [1,13]\n",
        "path = 'http://people.brunel.ac.uk/~mastjjb/jeb/orlib/files/'\n",
        "for i in range(1,14):\n",
        "  filename =  'airland' + str(i) + '.txt'\n",
        "  urllib.request.urlretrieve(path + filename, filename)\n",
        "  os.listdir()\n"
      ]
    },
    {
      "cell_type": "markdown",
      "metadata": {
        "id": "-piPAsHSQR3E"
      },
      "source": [
        "##Function to read the dataset"
      ]
    },
    {
      "cell_type": "code",
      "execution_count": null,
      "metadata": {
        "id": "NjAuCcJKehcW"
      },
      "outputs": [],
      "source": [
        "#=====================================================================\n",
        "# Function to fetch data from provided txt file\n",
        "# @parameters- file_name : Data file(must be present in same directory)\n",
        "#=====================================================================\n",
        "def fetch_data(file_name):\n",
        "    data=open(file_name,'r')\n",
        "    lines=data.readlines()\n",
        "    num_planes=int(lines[0].split()[0])\n",
        "    freeze_time=int(lines[0].split()[1])\n",
        "\n",
        "    flight_details=np.empty([num_planes,6],dtype=float)\n",
        "    sep_time=np.empty([num_planes,num_planes],dtype=int)\n",
        "    s=''\n",
        "    for line in lines[1:]:\n",
        "        s=s+line\n",
        "    s=s.split()\n",
        "    flag=0\n",
        "    count=0\n",
        "    for items in [s[x:x+6+num_planes] for x in range(0,len(s),num_planes+6)]:\n",
        "        flight_details[count]=[float(x) for x in items[:6]]\n",
        "        sep_time[count]=[int(x) for x in items[6:]]\n",
        "        count=count+1\n",
        "    # print(flight_details)\n",
        "    # print(sep_time)\n",
        "    data.close()\n",
        "    return num_planes,flight_details,sep_time"
      ]
    },
    {
      "cell_type": "markdown",
      "metadata": {
        "id": "QRyZKf_lr3s8"
      },
      "source": [
        "# MIP model\n",
        "\n",
        "## ALP - Static case - multiple runways\n",
        "\n",
        "### Definitions:\n",
        "\n",
        "* $P =$  the number of planes\n",
        "* $R =$  the number of runways\n",
        "* $E_i =$  the earliest landing time for plane $i$ ($i = 1, \\ldots, P$)\n",
        "* $L_i =$  the latest landing time for plane $i$ ($i = 1, \\ldots, P$)\n",
        "* $T_i =$   the target (preferred) landing time for plane $i$ ($i = 1, \\ldots, P$)\n",
        "* $S_{ij} =$  the required separation time ($\\geq 0 $) between plane $i$ landing and plane $j$ landing (where plane $i$ lands before plane $j$), $i, j = 1, \\ldots, P; i \\neq j$\n",
        "* $g_i =$  the penalty cost ($\\geq 0 $) per unit of time for landing before the target time $T_i =$ for plane $i$ ($i = 1, \\ldots, P$)\n",
        "* $h_i =$  the penalty cost ($\\geq 0 $) per unit of time for landing after the target time $T_i =$ for plane $i$ ($i = 1, \\ldots, P$)\n",
        "* $T_i =$  for plane $i$ ($i = 1, \\ldots, P$)\n",
        "* $ \\delta_{ij} =$ 1 if plane $i$ lands before plane $j$, 0 otherwise ($i,j = 1, \\ldots, P; i \\neq j$)\n",
        "* $z_{ij} =$  1  if planes $i$ and $j$ land on the same runaway, 0  otherwise ($i,j = 1, \\ldots, P; i \\neq j$)\n",
        "* $y_{ij} =$  1  if plane $i$ ($i = 1, \\ldots, P$) lands on runaway $r$, 0  otherwise  ($r = 1, \\ldots, R$)\n",
        "\n",
        "### Decision variables:\n",
        "\n",
        "* $x_i =$ the landing time for plane $i$ ($i = 1, \\ldots, P$)\n",
        "* $\\alpha_i =$ how soon plane $i$ ($i = 1, \\ldots, P$) lands before $T_i$\n",
        "* $\\beta_i =$ how soon plane $i$ ($i = 1, \\ldots, P$) lands after $T_i$\n",
        "\n",
        "\n",
        "\n",
        "### Objective function:\n",
        "* $ \\mathrm{minimize}\\sum_{i=1}^P \\left( g_i \\alpha_i + h_i \\beta_i \\right) $\n",
        "\n",
        "### Subject to:\n",
        "#### The landing time of plane $i$ must be larger than the earliest time of plane $i$:\n",
        "* $ x_i \\geq E_i, i = 1, \\ldots, P $\n",
        "\n",
        "#### The landing time of plane $i$ must be smaller than the latest time of plane $i$:\n",
        "* $x_i \\leq L_i, i = 1, \\ldots, P $\n",
        "\n",
        "#### How soon plane $i$ lands before $T_i$:\n",
        "* $ \\alpha_i \\geq T_i - x_i, i = 1, \\ldots, P $\n",
        "* $ 0 \\leq \\alpha_i \\leq  T_i - E_i, i = 1, \\ldots, P $\n",
        "\n",
        "#### How soon plane $i$ lands after $T_i$:\n",
        "* $ \\beta_i \\geq x_i - T_i, i = 1, \\ldots, P $\n",
        "* $ 0 \\leq \\beta_i \\leq  T_i - L_i, i = 1, \\ldots, P $\n",
        "\n",
        "#### Landing time:\n",
        "* $ x_i = T_i - \\alpha_i + \\beta_i, i = 1, \\ldots, P $\n",
        "\n",
        "#### Separation time between plane $i$ and plane $j$ must be respected:\n",
        "* $ x_j \\geq x_i + S_{ij} z_{ij} - (L_i + S_{ij} - E_j) \\delta_{ij}, i,j = 1, \\ldots, P $\n",
        "\n",
        "#### Plane $i$ can only land in one of the runways:\n",
        "* $ \\sum_{r=1}^{R} y_{ir} = 1, i = 1, \\ldots, P $\n",
        "\n",
        "#### If plane $i# lands in the same runway of plane $j$ the vice-versa also is true:\n",
        "* $ z_{ij}=z_{ji}, i,j = 1, \\ldots, P, j > i $\n",
        "\n",
        "#### If there is any runaway $r$ for which $y_{ir}=y{jr}=1$ then $z_{ij}=1$. If $z_{ij}=0$ then the planes $i$ and $j$ cannot land on the same runaway:\n",
        "* $ z_{ij} \\geq y_{ir} + y_{jr} -1 , i,j = 1, \\ldots, P, j > i; r, \\ldots, R $"
      ]
    },
    {
      "cell_type": "markdown",
      "metadata": {
        "id": "JlgAi0nhtcvq"
      },
      "source": [
        "## Creates the MIP model"
      ]
    },
    {
      "cell_type": "code",
      "execution_count": null,
      "metadata": {
        "id": "SqXrigLIehcW"
      },
      "outputs": [],
      "source": [
        "from docplex.mp.model import Model\n",
        "\n",
        "def static_ALP_MIP_mR(fname,R):\n",
        "\n",
        "\n",
        "    # Fetch data\n",
        "    P, flight_data, sep_time=fetch_data(fname)\n",
        "\n",
        "\n",
        "    #Creating a CPLEX model\n",
        "    name = \"Aircraft Landing Problem - Static Case | MIP model | \" + fname + \" | Runway(s) = \" + str(R) \n",
        "    mdl = Model(name)\n",
        "    \n",
        "    \n",
        "    try:\n",
        "      \n",
        "        # Splits flight data\n",
        "        E = flight_data[:,1]  # earliest landing time,\n",
        "        T = flight_data[:,2]  # target landing time,\n",
        "        L = flight_data[:,3]  # latest landing time,\n",
        "        g = flight_data[:,4]  # penalty cost per unit of time for landing before target,\n",
        "        h = flight_data[:,5]  # penalty cost per unit of time for landing after target\n",
        "\n",
        "        # creates indices to use in decision variables and constrains\n",
        "        ind_i = np.arange(P)\n",
        "        ind_ij = []\n",
        "        for i in ind_i:\n",
        "            for j in ind_i:\n",
        "                ind_ij.append((i,j))\n",
        "        ind_ir = []\n",
        "        for i in ind_i:\n",
        "            for r in np.arange(R):   \n",
        "                ind_ir.append((i,r))\n",
        "\n",
        "\n",
        "        #Adding decision variables\n",
        "        alpha   = mdl.continuous_var_dict(ind_i,lb=0,ub=mdl.infinity, name=\"alpha\")                                                         # how soon plane i (i=1,…,P) lands before T[i]\n",
        "        beta    = mdl.continuous_var_dict(ind_i,lb=0,ub=mdl.infinity, name=\"beta\")                                                          # how soon plane i (i=1,…,P) lands after T[i]\n",
        "        x       = mdl.continuous_var_dict(ind_i,lb=0,ub=mdl.infinity, name=\"x\")                                                             # the landing time for plane i (i=1,…,P)\n",
        "        delta   = mdl.binary_var_dict(ind_ij,lb=0,ub=1, name=\"delta\")                                                                       # δij= 1 if plane i lands before plane j, 0 otherwise (i,j=1,…,P;i≠j)\n",
        "        y       = mdl.binary_var_dict(ind_ir,lb=0,ub=1, name=\"y\")                                                                           # yij= 1 if plane i (i=1,…,P) lands on runaway r, 0 otherwise (r=1,…,R)\n",
        "        z       = mdl.binary_var_dict(ind_ij,lb=0,ub=1, name=\"z\")                                                                           # zij= 1 if planes i and j land on the same runaway, 0 otherwise (i,j=1,…,P;i≠j)\n",
        "\n",
        "\n",
        "        #Adding constraints\n",
        "        mdl.add_constraints(x[i]>=E[i] for i in ind_i)                                                                                      # Landing time of plane i must be later than the earliest landing time\n",
        "        mdl.add_constraints(x[i]<=L[i] for i in ind_i)                                                                                      # Landing time of plane i must be earlier than the before latest landing time\n",
        "        mdl.add_constraints(delta[i,j]+delta[j,i]==1 for i in ind_i for j in ind_i if j!=i)                                                 # Either plane i lands before plane j or plane j lands before plane i, but not both\n",
        "        mdl.add_constraints(alpha[i]>=T[i]-x[i] for i in ind_i)                                                                             # How soon plane i lands before T[i] must be larger than T[i] - x[i]\n",
        "        mdl.add_constraints(beta[i]>=x[i]-T[i] for i in ind_i)                                                                              # How soon plane i lands after T[i] must be larger than x[i] - T[i]\n",
        "        mdl.add_constraints(x[j]-x[i]>=sep_time[i,j]*z[j,i] - (L[i]+sep_time[i,j]-E[j])*delta[j,i] for i in ind_i for j in ind_i if j!=i)   # Separation time between plane i and plane j must be respected\n",
        "        mdl.add_constraints(z[i,j]==z[j,i] for i in ind_i for j in ind_i if j>i)                                                            # If plane i lands in the same runaway as plane j, plane j lands in the same runaway as plane i\n",
        "        mdl.add_constraints(mdl.sum(y[i,r] for r in np.arange(R))==1 for i in ind_i)                                                        # Plane i can only land in 1 runaway\n",
        "        mdl.add_constraints(z[i,j]>=y[i,r]+y[j,r]-1 for r in np.arange(R) for j in ind_i for i in ind_i if j>i)                             # If there is any runaway r for which y[i,r]=y[j,r]=1 then z[i,j]=1. If z[i,j]=0 then the planes i and j cannot land on the same runaway \n",
        "        \n",
        "        # Objective function\n",
        "        total_cost = mdl.sum(alpha[i] * g[i] + beta[i] * h[i] for i in ind_i)\n",
        "\n",
        "        # Minimize problem\n",
        "        mdl.minimize(total_cost)\n",
        "\n",
        "        # Add time limit. Apparently it is in seconds, but I could not confirm from the documentation\n",
        "        mdl.set_time_limit(180)\n",
        "        \n",
        "        # Print information on the MIP\n",
        "        mdl.print_information()\n",
        "\n",
        "        # Solve problem and store solution\n",
        "        msol = mdl.solve()\n",
        "        assert msol is not None, \"model can't solve\"\n",
        "\n",
        "    except AssertionError as a:\n",
        "        print('Encountered an assertion error ' + str(a))\n",
        "\n",
        "    except docplex.mp.error_handler.DOcplexException as e:\n",
        "        print('Error code ' + str(e.message) + \": \" + str(e))\n",
        "        return e\n",
        "\n",
        "\n",
        "    return P, mdl, msol"
      ]
    },
    {
      "cell_type": "markdown",
      "metadata": {
        "id": "bPqwVeTGUYzN"
      },
      "source": [
        "# CP model\n",
        "\n",
        "## ALP - Static case - 1 runway\n",
        "\n",
        "### Definitions:\n",
        "* $P =$  the number of planes\n",
        "* $E_i =$  the earliest landing time for plane $i$ ($i = 1, \\ldots, P$)\n",
        "* $L_i =$  the latest landing time for plane $i$ ($i = 1, \\ldots, P$)\n",
        "* $T_i =$   the target (preferred) landing time for plane $i$ ($i = 1, \\ldots, P$)\n",
        "* $S_{ij} =$  the required separation time ($\\geq 0 $) between plane $i$ landing and plane $j$ landing (where plane $i$ lands before plane $j$), $i, j = 1, \\ldots, P; i \\neq j$\n",
        "* $g_i =$  the penalty cost ($\\geq 0 $) per unit of time for landing before the target time $T_i =$ for plane $i$ ($i = 1, \\ldots, P$)\n",
        "* $h_i =$  the penalty cost ($\\geq 0 $) per unit of time for landing after the target time\n",
        "* $T_i =$  for plane $i$ ($i = 1, \\ldots, P$)\n",
        "\n",
        "### Decision variables:\n",
        "* $x_i =$ the landing time for plane $i$ ($i = 1, \\ldots, P$)\n",
        "* $\\alpha_i =$ how soon plane $i$ ($i = 1, \\ldots, P$) lands before $T_i$\n",
        "* $\\beta_i =$ how soon plane $i$ ($i = 1, \\ldots, P$) lands after $T_i$\n",
        "\n",
        "### Objective function:\n",
        "* $ \\mathrm{minimize}\\sum_{i=1}^P \\left( g_i \\alpha_i + h_i \\beta_i \\right)$\n",
        "\n",
        "### Subject to:\n",
        "#### The landing time of plane $i$ must be larger than the earliest time of plane $i$:\n",
        "* $ x_i \\geq E_i, i = 1, \\ldots, P $\n",
        "\n",
        "#### The landing time of plane $i$ must be smaller than the latest time of plane $i$:\n",
        "* $x_i \\leq L_i, i = 1, \\ldots, P $\n",
        "\n",
        "#### How soon plane $i$ lands before $T_i$:\n",
        "* $ \\alpha_i = T_i - x_i, i = 1, \\ldots, P $\n",
        "\n",
        "#### How soon plane $i$ lands after $T_i$:\n",
        "* $ \\beta_i = x_i - T_i, i = 1, \\ldots, P $\n",
        "\n",
        "#### Separation time between plane $i$ and plane $j$ must be respected:\n",
        "* $ x_j \\geq x_i + S_{ij} $ if $i$ lands before $j$\n"
      ]
    },
    {
      "cell_type": "markdown",
      "metadata": {
        "id": "_A76WLzlPtqo"
      },
      "source": [
        "## Creates the CP model -  1 runway"
      ]
    },
    {
      "cell_type": "code",
      "execution_count": null,
      "metadata": {
        "id": "LDwXJV5dPuRH"
      },
      "outputs": [],
      "source": [
        "from docplex.cp.model import CpoModel\n",
        "\n",
        "def static_ALP_CP_1R(fname):\n",
        "\n",
        "    # Fetch data\n",
        "    P, flight_data, sep_time=fetch_data(fname)\n",
        "\n",
        "    #Creating a CPLEX model\n",
        "    name = \"Aircraft Landing Problem - Static Case | CP model | \" + fname + \" | Runway(s) = 1\" \n",
        "    mdl = CpoModel(name)\n",
        "    sep_time\n",
        "    \n",
        "    try:\n",
        "      \n",
        "        # Splits flight data\n",
        "        E = flight_data[:,1]  # earliest landing time,\n",
        "        T = flight_data[:,2]  # target landing time,\n",
        "        L = flight_data[:,3]  # latest landing time,\n",
        "        g = flight_data[:,4]  # penalty cost per unit of time for landing before target,\n",
        "        h = flight_data[:,5]  # penalty cost per unit of time for landing after target\n",
        "\n",
        "        # creates indices to use in decision variables and constrains\n",
        "        ind_i = np.arange(P)\n",
        "\n",
        "        #\n",
        "        max_INT = int(max(L[i]-E[i] for i in ind_i))\n",
        "        min_E = int(min(E))\n",
        "        max_L = int(max(L))\n",
        "        max_cost = max(max(g),max(h))\n",
        "\n",
        "        #Adding decision variables\n",
        "        alpha   = mdl.integer_var_list(size=P, min=0, max=max_INT, name='alpha')                    # how soon plane i (i=1,…,P) lands before T[i]\n",
        "        beta    = mdl.integer_var_list(size=P, min=0, max=max_INT, name='beta')                     # how soon plane i (i=1,…,P) lands after T[i]\n",
        "        x       = mdl.integer_var_list(size=P, min=min_E, max=max_L, name='x')                      # the landing time for plane i (i=1,…,P)\n",
        "\n",
        "        #Adding constraints\n",
        "        mdl.add(x[i] >= E[i] for i in ind_i)                                                        # Landing time of plane i must be later than the earliest landing time\n",
        "        mdl.add(x[i] <= L[i] for i in ind_i)                                                        # Landing time of plane i must be earlier than the before latest landing time\n",
        "        mdl.add(alpha[i] == mdl.max(0, T[i] - x[i]) for i in ind_i)                                 # how soon plane i (i=1,…,P) lands before T[i]\n",
        "        mdl.add(beta[i] == mdl.max(0, x[i] - T[i]) for i in ind_i)                                  # how soon plane i (i=1,…,P) lands after T[i]\n",
        "\n",
        "        for i in ind_i:             \n",
        "            for j in range(i+1, P):\n",
        "                mdl.add(mdl.logical_or(x[j]-x[i] >= sep_time[i,j] , x[i]-x[j] >= sep_time[j,i]))    # separation time betwen plane i and plane j\n",
        "\n",
        "        \n",
        "        # Objective function\n",
        "        total_cost = mdl.integer_var(min=0, max=int(max_cost*(max_L-min_E)), name='total_cost')\n",
        "        mdl.add(total_cost == mdl.sum(alpha[i] * g[i] + beta[i] * h[i] for i in ind_i))\n",
        "\n",
        "\n",
        "        # Minimize problem\n",
        "        mdl.add(mdl.minimize(total_cost))\n",
        "      \n",
        "        # Print information on the CP\n",
        "        mdl.print_information()\n",
        "\n",
        "        # Solve problem and store solution\n",
        "        msol = mdl.solve(TimeLimit=180)\n",
        "\n",
        "        objective = msol.get_value(total_cost)\n",
        "\n",
        "        assert msol is not None, \"model can't solve\"\n",
        "\n",
        "    except AssertionError as a:\n",
        "        print('Encountered an assertion error ' + str(a))\n",
        "        return a\n",
        "\n",
        "    except docplex.mp.error_handler.DOcplexException as e:\n",
        "        print('Error code ' + str(e.message) + \": \" + str(e))\n",
        "        return e\n",
        "\n",
        "\n",
        "    return P, mdl, msol, objective"
      ]
    },
    {
      "cell_type": "markdown",
      "metadata": {},
      "source": [
        "# CP model\n",
        "\n",
        "## ALP - Static case - multiple runways\n",
        "\n",
        "### Definitions:\n",
        "* $P =$  the number of planes\n",
        "* $R =$  the number of runways\n",
        "* $n_{slots} = \\mod(P/R) + 1 $  the number of slots in each runway\n",
        "* $fP = n_{slots} \\cdot R - P$  the number of fictitious planes\n",
        "* $nP = P + fP$  the total number of  planes\n",
        "* $E_i =$  the earliest landing time for plane $i$ ($i = 1, \\ldots, nP$)\n",
        "* $L_i =$  the latest landing time for plane $i$ ($i = 1, \\ldots, nP$)\n",
        "* $T_i =$   the target (preferred) landing time for plane $i$ ($i = 1, \\ldots, nP$)\n",
        "* $S_{ij} =$  the required separation time ($\\geq 0 $) between plane $i$ landing and plane $j$ landing (where plane $i$ lands before plane $j$), $i, j = 1, \\ldots, P; i \\neq j$\n",
        "* $g_i =$  the penalty cost ($\\geq 0 $) per unit of time for landing before the target time $T_i =$ for plane $i$ ($i = 1, \\ldots, nP$)\n",
        "* $h_i =$  the penalty cost ($\\geq 0 $) per unit of time for landing after the target time $T_i =$ for plane $i$ ($i = 1, \\ldots, nP$)\n",
        "* $T_i =$  for plane $i$ ($i = 1, \\ldots, nP$)\n",
        "* The values of $S_{ij}$ are the same as for the MILP for the real planes ($i,j = 1, \\ldots, P$) and 0 for the fictitious planes ($i,j = P +1 , \\ldots, nP$).\n",
        "* $E_i = min_E = \\min(E_i | i = 1, \\ldots, P)$ for ($i = P + 1, \\ldots, nP$)\n",
        "* $L_i = max_L = \\max(L_i | i = 1, \\ldots, P)$ for ($i = P + 1, \\ldots, nP$)\n",
        "* $T_i =\\frac{max_L + min_E}{2}$ for ($i = P + 1, \\ldots, nP$)\n",
        "* $g_i = h_i = 0$ for ($i = P + 1, \\ldots, nP$) The cost of the ficticious is zero so they don't affect the objective function\n",
        "* $SP_s= S_{ij}$, where $s= i + nP \\cdot j$ 1D array with the values of $S_{ij}$\n",
        "  \n",
        "### Decision variables:\n",
        "* $slot_i =$ the slot where plane $i$ lands ($i = 1, \\ldots, nP$)\n",
        "* $t_{land, i} =$ the landing time for plane $i$ ($i = 1, \\ldots, nP$)\n",
        "* $\\alpha_i =$ how soon plane $i$ ($i = 1, \\ldots, nP$) lands before $T_i$\n",
        "* $\\beta_i =$ how soon plane $i$ ($i = 1, \\ldots, nP$) lands after $T_i$\n",
        "\n",
        "### Objective function:\n",
        "* $ \\mathrm{minimize}\\sum_{i=1}^P \\left( g_i \\alpha_i + h_i \\beta_i \\right)$\n",
        "\n",
        "### Subject to:\n",
        "#### The landing time of plane $i$ must be larger than the earliest time of plane $i$:\n",
        "* $ x_i \\geq E_i, i = 1, \\ldots, P $\n",
        "\n",
        "#### The landing time of plane $i$ must be smaller than the latest time of plane $i$:\n",
        "* $x_i \\leq L_i, i = 1, \\ldots, P $\n",
        "\n",
        "#### How soon plane $i$ lands before $T_i$:\n",
        "* $ \\alpha_i = T_i - x_i, i = 1, \\ldots, P $\n",
        "\n",
        "#### How soon plane $i$ lands after $T_i$:\n",
        "* $ \\beta_i = x_i - T_i, i = 1, \\ldots, P $\n",
        "\n",
        "#### Separation time between plane $i$ and plane $j$ must be respected:\n",
        "* $ x_j \\geq x_i + S_{ij} $ if $i$ lands before $j$\n"
      ]
    },
    {
      "cell_type": "markdown",
      "metadata": {},
      "source": [
        "## Creates the CP model -  multiple runways"
      ]
    },
    {
      "cell_type": "code",
      "execution_count": null,
      "metadata": {},
      "outputs": [],
      "source": [
        "from docplex.cp.model import CpoModel\n",
        "import numpy as np\n",
        "\n",
        "\n",
        "# Function to add false planes (lines and columns) to flight data and separation times\n",
        "def falseplanes(array, new_columns, new_rows):\n",
        "    num_rows, num_cols = array.shape\n",
        "    azeros=np.zeros((num_rows, new_columns))\n",
        "    array= np.c_['r',array, azeros]\n",
        "\n",
        "    azeros=np.zeros((new_rows, num_cols + new_columns))\n",
        "    array= np.r_['c',array, azeros]\n",
        "\n",
        "    return array\n",
        "\n",
        "\n",
        "    \n",
        "def static_ALP_CP_mR(fname,R):\n",
        "\n",
        "\n",
        "    # Fetch data\n",
        "    P, flight_data, sep_time=fetch_data(fname)\n",
        "\n",
        "    #Creating a CPLEX model\n",
        "    name = \"Aircraft Landing Problem - Static Case | CP model | \" + fname + \" | Runway(s) = \" + str(R) \n",
        "    mdl = CpoModel(name)\n",
        "        \n",
        "    try:\n",
        "      \n",
        "        # global parameters\n",
        "        max_INT = int(max(flight_data[i,3]- flight_data[i,1] for i in range(P)))\n",
        "        min_E = int(min(flight_data[:,1]))\n",
        "        # max_E = int(max(flight_data[:,1]))\n",
        "        # min_L = int(min(flight_data[:,3]))\n",
        "        max_L = int(max(flight_data[:,3]))\n",
        "        max_g = int(max(flight_data[:,4]))\n",
        "        max_h = int(max(flight_data[:,5]))  \n",
        "        max_SP = int(np.amax(sep_time))\n",
        "        \n",
        "        max_cost = max(max_g,max_h)\n",
        "\n",
        "        nslots = int(P/R) + 1\n",
        "        # nslots = int(math.ceil(P / R)) \n",
        "        # nslots = P\n",
        "\n",
        "        fP = (nslots * R) - P                               # number of ficticious planes to create\n",
        "\n",
        "        nP = P + fP                                         # number of planes + number of ficticious planes\n",
        "       \n",
        "        # creates arrays for false planes which have zero costs and a time landing range equal to set of planes\n",
        "        new_st = falseplanes(sep_time, fP, fP)\n",
        "        new_fd = falseplanes(flight_data, fP, fP)\n",
        "\n",
        "        # convert to integers\n",
        "        new_st=new_st.astype(int)\n",
        "        new_fd=new_fd.astype(int)\n",
        "         \n",
        "\n",
        "\n",
        "        # Splits flight data\n",
        "        E_ = new_fd[:,1]  # earliest landing time\n",
        "        T_ = new_fd[:,2]  # target landing time\n",
        "        L_ = new_fd[:,3]  # latest landing time\n",
        "        g_ = new_fd[:,4]  # penalty cost per unit of time for landing before target\n",
        "        h_ = new_fd[:,5]  # penalty cost per unit of time for landing after target\n",
        "\n",
        "        \n",
        "        # the time windows of the false planes correspond to the maximum and minimumm values of all true planes. The target is the average of the interval\n",
        "        for i in range (P, P + fP  ):\n",
        "            E_[i] = min_E\n",
        "            L_[i] = max_L\n",
        "            T_[i] = int((min_E + max_L)/2)\n",
        "        \n",
        "\n",
        "        #Adding decision variables\n",
        "        # E = mdl.integer_var_list(nP, min=min_E, max=max_E, name='E')                # earliest landing time\n",
        "        T = mdl.integer_var_list(nP, min=min_E, max=max_L, name='T')                # target landing time\n",
        "        # L = mdl.integer_var_list(nP, min=min_L, max=max_L, name='L')                # latest landing time\n",
        "        g = mdl.integer_var_list(nP, min=0, max=max_g, name='g')                    # penalty cost per unit of time for landing before target\n",
        "        h = mdl.integer_var_list(nP, min=0, max=max_h, name='h')                    # penalty cost per unit of time for landing after target\n",
        "        SP = mdl.integer_var_list(nP*nP, min=0, max=max_SP, name='SP')              # array with the planes separation times\n",
        "        alpha   = mdl.integer_var_list(nP, min=0, max=max_INT, name='alpha')        # how soon plane i (i=1,…,P) lands before T[i]\n",
        "        beta    = mdl.integer_var_list(nP, min=0, max=max_INT, name='beta')         # how soon plane i (i=1,…,P) lands after T[i]\n",
        "        slot   = mdl.integer_var_list(nP, min=0, max=nP-1, name='slot')             # array with the landing slots in all runways. The values inside the slots will be the plane numbers\n",
        "        \n",
        "\n",
        "        t_land=[]\n",
        "        \n",
        "        for i in range(nP):\n",
        "            mdl.add(mdl.integer_var(min = int(E_[i]), max= int(L_[i]), name='x' + str(i)))\n",
        "            t_land.append(\"t_land_\" + str(i))\n",
        "\n",
        "        t_land = mdl.integer_var_list(nP, min=min_E, max=max_L, name='t_land')           # array with the landing times of each plane (real and ficticious)\n",
        "\n",
        "        mdl.add(mdl.all_diff(slot))\n",
        "\n",
        "        # mdl.add(mdl.expr_list() t_land)\n",
        "        #Adding constraints\n",
        "     \n",
        "        # copies the values of the flighs data to arrays of the model, so they can be acessed inside the model dynamically\n",
        "        for i in range(nP):\n",
        "            # mdl.add(E[i] == int(E_[i]))\n",
        "            mdl.add(T[i] == int(T_[i]))\n",
        "            # mdl.add(L[i] == int(L_[i]))\n",
        "            mdl.add(g[i] == int(g_[i]))\n",
        "            mdl.add(h[i] == int(h_[i]))\n",
        "\n",
        "        for i in range(nP):\n",
        "            for j in range(nP):\n",
        "                mdl.add(SP[i + nP * j] == int(new_st[i,j]))\n",
        "        \n",
        "        \n",
        "        mdl.export_model('model.txt')\n",
        "        # mdl.add(mdl.element(E, slot[i]) <= mdl.element(t_land, slot[i]) for i in range(nP))                            # Landing time of plane i must be later than the earliest landing time\n",
        "        # mdl.add(mdl.element(L, slot[i]) >= mdl.element(t_land, slot[i]) for i in range(nP))                            # Landing time of plane i must be earlier than the before latest landing time\n",
        "        mdl.add(alpha[i] == mdl.max(0, mdl.element(T, slot[i]) - mdl.element(t_land, slot[i])) for i in range(nP))     # how soon plane i (i=1,…,P) lands before T[i]\n",
        "        mdl.add(beta[i] == mdl.max(0, mdl.element(t_land, slot[i]) - mdl.element(T, slot[i]))  for i in range(nP))     # how soon plane i (i=1,…,P) lands after T[i]\n",
        "\n",
        "        # separation time between planes\n",
        "        for r in range(R):\n",
        "            for i in range(nslots):\n",
        "                for j in range( i + 1, nslots):\n",
        "                    mdl.add(mdl.element(SP, slot[i + nslots * r] + nP * slot[j + nslots * r]) <= (mdl.element(t_land, slot[j+ nslots * r]) - mdl.element(t_land, slot[i+ nslots * r])))\n",
        "\n",
        "\n",
        "\n",
        "\n",
        "        #http://ibmdecisionoptimization.github.io/docplex-doc/cp/docplex.cp.model.py.html#docplex.cp.model.CpoModel.set_starting_point\n",
        "        \n",
        "        \n",
        "        # stp = mdl.create_empty_solution()\n",
        "        \n",
        "        # for r in range(R):\n",
        "        #     for i in range(nslots):\n",
        "        #         stp[slot[i]]\n",
        "                \n",
        "        # stp_slot = [r + i * R for r in range(R) for i in range(nslots)]\n",
        "        # stp_slot = tuple(stp_slot)\n",
        "        # stp_t_land =  T\n",
        "\n",
        "        # mdl.add_integer_var_solution(stp_slot)\n",
        "\n",
        "        # # Objective function\n",
        "        total_cost = mdl.integer_var(min=0, max=int(max_cost*(max_L-min_E)), name='total_cost')\n",
        "        mdl.add(total_cost == mdl.sum(alpha[i] * mdl.element(g, slot[i]) + beta[i] * mdl.element(h, slot[i]) for i in range(nP)))\n",
        "\n",
        "        # Minimize problem\n",
        "        mdl.add(mdl.minimize(total_cost))\n",
        "      \n",
        "        # Print information on the CP\n",
        "        mdl.print_information()\n",
        "    \n",
        "\n",
        "        # Solve problem and store solution\n",
        "        msol = mdl.solve(TimeLimit=180)\n",
        "\n",
        "        objective = msol.get_value(total_cost)\n",
        "\n",
        "        assert msol is not None, \"model can't solve\"\n",
        "\n",
        "    except AssertionError as a:\n",
        "        print('Encountered an assertion error: ' + str(a))\n",
        "        return a\n",
        "\n",
        "    except docplex.mp.error_handler.DOcplexException as e:\n",
        "        print('Error code ' + str(e.message) + \": \" + str(e))\n",
        "        return e\n",
        "\n",
        "\n",
        "    return P, mdl, msol, objective"
      ]
    },
    {
      "cell_type": "markdown",
      "metadata": {
        "id": "6S8SpQ9vQrLE"
      },
      "source": [
        "# Runs a single problem (MIP)"
      ]
    },
    {
      "cell_type": "code",
      "execution_count": null,
      "metadata": {
        "colab": {
          "base_uri": "https://localhost:8080/"
        },
        "id": "CFN6b2Hs5UN0",
        "outputId": "fabcbaef-f6d1-43e7-c806-4e4aece8d84a"
      },
      "outputs": [],
      "source": [
        "filename = 'airland3.txt'\n",
        "r = 2\n",
        "P_, mdl_, msol_ = static_ALP_MIP_mR(filename, r)\n",
        "\n",
        "mdl_.report()\n",
        "#mdl_.print_solution()"
      ]
    },
    {
      "cell_type": "markdown",
      "metadata": {
        "id": "pJWDs4BKZ33h"
      },
      "source": [
        "# Runs a single problem (CP_1R)"
      ]
    },
    {
      "cell_type": "code",
      "execution_count": null,
      "metadata": {
        "colab": {
          "base_uri": "https://localhost:8080/"
        },
        "id": "FSBbL8QRZ4PC",
        "outputId": "038e12e2-9505-4280-9291-de336679dc83"
      },
      "outputs": [],
      "source": [
        "filename = 'airland3.txt'\n",
        "\n",
        "P_, mdl_, msol_, objective_= static_ALP_CP_1R(filename)\n",
        "\n",
        "\n",
        "#msol_.print_solution()\n",
        "\n",
        "print('Objective value: ' + str(objective_))\n"
      ]
    },
    {
      "cell_type": "markdown",
      "metadata": {},
      "source": [
        "# Runs a single problem (CP_mR)"
      ]
    },
    {
      "cell_type": "code",
      "execution_count": null,
      "metadata": {},
      "outputs": [],
      "source": [
        "filename = 'airland1.txt'\n",
        "r = 2\n",
        "P_, mdl_, msol_, objective_= static_ALP_CP_mR(filename, r)\n",
        "\n",
        "\n",
        "# msol_.print_solution()\n",
        "\n",
        "print('Objective value: ' + str(objective_))\n",
        "\n",
        "print('sol_time: ' + str(round(msol_.solveTime,3)))\n"
      ]
    },
    {
      "cell_type": "markdown",
      "metadata": {
        "id": "0NGBEz9V5eX5"
      },
      "source": [
        "# Loops all the files and writes KPI to file"
      ]
    },
    {
      "cell_type": "code",
      "execution_count": null,
      "metadata": {
        "colab": {
          "base_uri": "https://localhost:8080/"
        },
        "id": "v6Ne0n8qehcZ",
        "outputId": "c81e5672-ecd4-412d-a50c-9abfa85d1e22"
      },
      "outputs": [],
      "source": [
        "def loop_files(fstart, fend, nrunaways):\n",
        "\n",
        "  import pandas as pd \n",
        "\n",
        "  # creates empty list where the rows of the df will be stored\n",
        "  rows_list1 = []\n",
        "  rows_list2 = []\n",
        "  \n",
        "  # loop all files\n",
        "  for i in range(fstart, fend + 1):\n",
        "    # file to open\n",
        "    filename =  'airland' + str(i) + '.txt'\n",
        "\n",
        "    # loop over range of runways number\n",
        "    for r in range(1, nrunaways + 1):\n",
        "      try: \n",
        "        P_MIP, mdl_MIP, msol_MIP = static_ALP_MIP_mR(filename, r)\n",
        "      \n",
        "        # dictionary with the row data\n",
        "        dict1 = {'Case': i ,'R': r, 'P': P_MIP, 'n_cont_var' : mdl_MIP.number_of_continuous_variables , 'n_bin_var' : mdl_MIP.number_of_binary_variables , 'n_const' : mdl_MIP.number_of_constraints , 'value' : int(round(mdl_MIP.objective_value, 0)) , 'sol_time' : round(mdl_MIP.solve_details.time,3)} \n",
        "        # appends to list of dictionary\n",
        "        rows_list1.append(dict1)\n",
        "\n",
        "      except:\n",
        "        dict1 = {'Case': i ,'R': r}\n",
        "        rows_list1.append(dict1)\n",
        "\n",
        "\n",
        "    # loop over range of runways number\n",
        "    \n",
        "    r = 1\n",
        "    try: \n",
        "      P_CP, mdl_CP, msol_CP, objective_CP = static_ALP_CP_1R(filename)\n",
        "      \n",
        "      # dictionary with the row data\n",
        "      dict2 = {'Case': i ,'R': r, 'P': P_CP, 'value' : int(round(objective_CP,0)) , 'sol_time' : round(msol_CP.solveTime,3)} \n",
        "      # appends to list of dictionary\n",
        "      rows_list2.append(dict2)\n",
        "\n",
        "    except:\n",
        "      dict2 = {'Case': i ,'R': r}\n",
        "      rows_list2.append(dict2)\n",
        "\n",
        "    # creates dataframe with the list of dictionaries\n",
        "    df_MIP = pd.DataFrame(rows_list1)\n",
        "    df_CP = pd.DataFrame(rows_list2)  \n",
        "\n",
        "  return df_MIP, df_CP\n",
        "\n",
        "fstart = 1\n",
        "fend = 8\n",
        "nrunaways = 5\n",
        "\n",
        "df_results_MIP, df_results_CP = loop_files(fstart, fend, nrunaways)\n",
        "\n",
        "# writes the results to a csv file\n",
        "df_results_MIP.to_csv('solutions_MIP.csv')\n",
        "df_results_CP.to_csv('solutions_CP.csv')"
      ]
    },
    {
      "cell_type": "code",
      "execution_count": null,
      "metadata": {
        "colab": {
          "base_uri": "https://localhost:8080/",
          "height": 206
        },
        "id": "kp1HEi5_OYHg",
        "outputId": "b67e0259-c724-45cc-c9f6-bd20ab27963e"
      },
      "outputs": [],
      "source": [
        "df_results_MIP.head()"
      ]
    },
    {
      "cell_type": "code",
      "execution_count": null,
      "metadata": {
        "colab": {
          "base_uri": "https://localhost:8080/",
          "height": 206
        },
        "id": "wf6N67TsUC1s",
        "outputId": "bb346d4c-3255-4ae7-bd47-64d3b881d0ac"
      },
      "outputs": [],
      "source": [
        "df_results_CP.head()"
      ]
    },
    {
      "cell_type": "code",
      "execution_count": null,
      "metadata": {},
      "outputs": [],
      "source": [
        "# Merge the two data frames\n",
        "df_merge = df_results_MIP.merge(df_results_CP[['Case','R','value','sol_time']], how = 'outer', on = ['Case', 'R'] )\n",
        "\n",
        "df_merge.columns = ['Case', 'R', 'P', 'n.cvar', 'n.bvar', 'n.const', 'value1',\n",
        "       'sol.time1', 'value2', 'sol.time2']\n",
        "df_merge.head()\n"
      ]
    },
    {
      "cell_type": "code",
      "execution_count": null,
      "metadata": {},
      "outputs": [],
      "source": [
        "print(df_merge.to_latex(na_rep = '--' , index=False))\n"
      ]
    }
  ],
  "metadata": {
    "colab": {
      "collapsed_sections": [
        "_YUSiwlZehcJ",
        "QRyZKf_lr3s8"
      ],
      "name": "SAAD_ALP_static_multi_runaway.ipynb",
      "provenance": []
    },
    "interpreter": {
      "hash": "bcfc5e7798accc640934d91b6c02b8da41876a0278bc57af9ea6425b895de379"
    },
    "kernelspec": {
      "display_name": "Python 3.8.12 ('DB_modelling')",
      "language": "python",
      "name": "python3"
    },
    "language_info": {
      "codemirror_mode": {
        "name": "ipython",
        "version": 3
      },
      "file_extension": ".py",
      "mimetype": "text/x-python",
      "name": "python",
      "nbconvert_exporter": "python",
      "pygments_lexer": "ipython3",
      "version": "3.8.12"
    },
    "orig_nbformat": 4
  },
  "nbformat": 4,
  "nbformat_minor": 0
}
